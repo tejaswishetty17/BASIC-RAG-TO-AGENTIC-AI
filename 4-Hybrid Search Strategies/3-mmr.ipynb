{
 "cells": [
  {
   "cell_type": "markdown",
   "id": "2ea2208a",
   "metadata": {},
   "source": [
    "### Maximal Marginal Relevance\n",
    "MMR (Maximal Marginal Relevance) is a powerful diversity-aware retrieval technique used in information retrieval and RAG pipelines to balance relevance and novelty when selecting documents."
   ]
  },
  {
   "cell_type": "code",
   "execution_count": 17,
   "id": "3dce70b1",
   "metadata": {},
   "outputs": [],
   "source": [
    "from langchain_community.vectorstores import FAISS\n",
    "from langchain_huggingface import HuggingFaceEmbeddings\n",
    "from langchain.document_loaders import TextLoader\n",
    "from langchain.text_splitter import RecursiveCharacterTextSplitter\n",
    "from langchain.chat_models import init_chat_model\n",
    "from langchain.prompts import PromptTemplate\n",
    "from langchain.chains.combine_documents import create_stuff_documents_chain\n",
    "from langchain.chains.retrieval import create_retrieval_chain"
   ]
  },
  {
   "cell_type": "code",
   "execution_count": 18,
   "id": "3e54556a",
   "metadata": {},
   "outputs": [],
   "source": [
    "import os\n",
    "from dotenv import load_dotenv\n",
    "load_dotenv()\n",
    "os.environ[\"OPENAI_API_KEY\"] = os.getenv(\"OPENAI_API_KEY\")\n",
    "os.environ[\"GROQ_API_KEY\"] = os.getenv(\"GROQ_API_KEY\")\n"
   ]
  },
  {
   "cell_type": "code",
   "execution_count": 19,
   "id": "734f62df",
   "metadata": {},
   "outputs": [
    {
     "data": {
      "text/plain": [
       "[Document(metadata={'source': 'langchain_rag_dataset.txt'}, page_content='LangChain is an open-source framework designed to simplify the development of applications using large language models (LLMs).\\nLangChain provides abstractions for working with prompts, chains, memory, and agents, making it easier to build complex LLM-based systems.'),\n",
       " Document(metadata={'source': 'langchain_rag_dataset.txt'}, page_content='The framework supports integration with various vector databases like FAISS and Chroma for semantic retrieval.\\nLangChain enables Retrieval-Augmented Generation (RAG) by allowing developers to fetch relevant context before generating responses.'),\n",
       " Document(metadata={'source': 'langchain_rag_dataset.txt'}, page_content='Memory in LangChain helps models retain previous interactions, making multi-turn conversations more coherent.\\nAgents in LangChain can use tools like calculators, search APIs, or custom functions based on the instructions they receive.'),\n",
       " Document(metadata={'source': 'langchain_rag_dataset.txt'}, page_content='BM25 and vector-based retrieval can be combined in LangChain to support hybrid retrieval strategies.\\nFAISS is a high-performance library for similarity search that LangChain leverages for efficient retrieval in RAG pipelines.'),\n",
       " Document(metadata={'source': 'langchain_rag_dataset.txt'}, page_content='Chroma is a lightweight vector store often used in LangChain for embedding-based document storage and retrieval.\\nPrompt templates in LangChain support Jinja-style formatting and variable injection to customize model inputs.'),\n",
       " Document(metadata={'source': 'langchain_rag_dataset.txt'}, page_content=\"The 'stuff' chain sends all context at once to the LLM, useful for short documents in RAG.\\nThe 'map-reduce' chain breaks up large documents, processes them separately, and then aggregates the outputs.\\nThe 'refine' chain iteratively updates an answer by incorporating each new chunk of information.\"),\n",
       " Document(metadata={'source': 'langchain_rag_dataset.txt'}, page_content='LangChain allows LLMs to act as agents that decide which tool to call and in what order during a task.\\nLangChain supports conversational memory using ConversationBufferMemory and summarization memory with ConversationSummaryMemory.'),\n",
       " Document(metadata={'source': 'langchain_rag_dataset.txt'}, page_content='LangChain agents can interact with external APIs and databases, enhancing the capabilities of LLM-powered applications.\\nRAG pipelines in LangChain involve document loading, splitting, embedding, retrieval, and LLM-based response generation.'),\n",
       " Document(metadata={'source': 'langchain_rag_dataset.txt'}, page_content='MMR (Maximal Marginal Relevance) retrieval in LangChain improves diversity by balancing relevance and redundancy.\\nTool usage in LangChain allows agents to execute predefined Python functions with contextual input from the user.'),\n",
       " Document(metadata={'source': 'langchain_rag_dataset.txt'}, page_content='LangChain supports reranking retrieved results using LLMs or neural cross-encoders to improve context quality.')]"
      ]
     },
     "execution_count": 19,
     "metadata": {},
     "output_type": "execute_result"
    }
   ],
   "source": [
    "#Step 1: Load and chunk the document\n",
    "loader = TextLoader(\"langchain_rag_dataset.txt\")\n",
    "raw_docs = loader.load()\n",
    "splitter = RecursiveCharacterTextSplitter(chunk_size = 300, chunk_overlap=50)\n",
    "chunks = splitter.split_documents(raw_docs)\n",
    "chunks"
   ]
  },
  {
   "cell_type": "code",
   "execution_count": 20,
   "id": "94001290",
   "metadata": {},
   "outputs": [],
   "source": [
    "## Step 2 : FIASS vector store with Hugging Face embeddings \n",
    "\n",
    "embedding_model = HuggingFaceEmbeddings(model = \"all-MiniLM-L6-v2\")\n",
    "vectorstore = FAISS.from_documents(chunks, embedding_model)"
   ]
  },
  {
   "cell_type": "code",
   "execution_count": 21,
   "id": "d5268ca6",
   "metadata": {},
   "outputs": [],
   "source": [
    "### Step 3: Create MMR Retriever \n",
    "retriever = vectorstore.as_retriever(\n",
    "    search_type = \"mmr\", \n",
    "    seatch_kwargs = {\"k\":3}\n",
    "\n",
    ")"
   ]
  },
  {
   "cell_type": "code",
   "execution_count": 22,
   "id": "20583587",
   "metadata": {},
   "outputs": [],
   "source": [
    "### Step 4: Prompt and LLM\n",
    "\n",
    "prompt = PromptTemplate.from_template(\"\"\"\n",
    "Answer the question based on the context provided.\n",
    "Context:\n",
    "{context}\n",
    "\n",
    "Question:{input}\n",
    "\"\"\")\n",
    "\n",
    "llm = init_chat_model(\"groq:gemma2-9b-it\")"
   ]
  },
  {
   "cell_type": "code",
   "execution_count": 23,
   "id": "5756a52a",
   "metadata": {},
   "outputs": [],
   "source": [
    "### step 5: RAG pipeline\n",
    "document_chain = create_stuff_documents_chain(llm=llm, prompt=prompt)\n",
    "rag_chain = create_retrieval_chain(retriever=retriever, combine_docs_chain=document_chain)"
   ]
  },
  {
   "cell_type": "code",
   "execution_count": 24,
   "id": "184cc304",
   "metadata": {},
   "outputs": [],
   "source": [
    "#Step 6: Query \n",
    "query = {\"input\":\"How does Langchain support agents and memory?\"}\n",
    "response = rag_chain.invoke(query)"
   ]
  },
  {
   "cell_type": "code",
   "execution_count": 25,
   "id": "c440d1fe",
   "metadata": {},
   "outputs": [
    {
     "name": "stdout",
     "output_type": "stream",
     "text": [
      "Answer:\n",
      " LangChain supports agents in two key ways:\n",
      "\n",
      "1. **Tool Integration:** Agents can utilize various tools like calculators, search APIs, or custom functions based on the instructions they receive. This allows them to perform tasks beyond simple text generation.\n",
      "\n",
      "2. **Decision Making:** LangChain empowers LLMs within agents to act as decision-makers. They can choose which tool to employ and the sequence in which to use them while completing a task.\n",
      "\n",
      "Regarding memory, LangChain offers two primary memory options:\n",
      "\n",
      "1. **Conversational Memory:**  `ConversationBufferMemory` enables agents to retain previous interactions, ensuring coherence in multi-turn conversations.\n",
      "\n",
      "2. **Summarization Memory:** `ConversationSummaryMemory` condenses past interactions into summaries, providing a concise overview for the agent to reference. \n",
      "\n",
      "\n",
      "This combination of tool integration and memory support allows LangChain agents to be more capable and context-aware. \n",
      "\n"
     ]
    }
   ],
   "source": [
    "\n",
    "print(\"Answer:\\n\", response['answer'])"
   ]
  },
  {
   "cell_type": "code",
   "execution_count": 26,
   "id": "01cafb2b",
   "metadata": {},
   "outputs": [
    {
     "data": {
      "text/plain": [
       "{'input': 'How does Langchain support agents and memory?',\n",
       " 'context': [Document(id='abc23e29-fca0-4b8c-8f8b-6cb5367eca0c', metadata={'source': 'langchain_rag_dataset.txt'}, page_content='Memory in LangChain helps models retain previous interactions, making multi-turn conversations more coherent.\\nAgents in LangChain can use tools like calculators, search APIs, or custom functions based on the instructions they receive.'),\n",
       "  Document(id='9769c4c7-848e-4908-bd36-7ea05ac09ba1', metadata={'source': 'langchain_rag_dataset.txt'}, page_content='LangChain agents can interact with external APIs and databases, enhancing the capabilities of LLM-powered applications.\\nRAG pipelines in LangChain involve document loading, splitting, embedding, retrieval, and LLM-based response generation.'),\n",
       "  Document(id='d0cceef8-94ae-43d2-9cd0-3579c94bebfe', metadata={'source': 'langchain_rag_dataset.txt'}, page_content='LangChain allows LLMs to act as agents that decide which tool to call and in what order during a task.\\nLangChain supports conversational memory using ConversationBufferMemory and summarization memory with ConversationSummaryMemory.'),\n",
       "  Document(id='bf5f42ff-46b7-48b1-af02-ccf090158c0f', metadata={'source': 'langchain_rag_dataset.txt'}, page_content='LangChain is an open-source framework designed to simplify the development of applications using large language models (LLMs).\\nLangChain provides abstractions for working with prompts, chains, memory, and agents, making it easier to build complex LLM-based systems.')],\n",
       " 'answer': 'LangChain supports agents in two key ways:\\n\\n1. **Tool Integration:** Agents can utilize various tools like calculators, search APIs, or custom functions based on the instructions they receive. This allows them to perform tasks beyond simple text generation.\\n\\n2. **Decision Making:** LangChain empowers LLMs within agents to act as decision-makers. They can choose which tool to employ and the sequence in which to use them while completing a task.\\n\\nRegarding memory, LangChain offers two primary memory options:\\n\\n1. **Conversational Memory:**  `ConversationBufferMemory` enables agents to retain previous interactions, ensuring coherence in multi-turn conversations.\\n\\n2. **Summarization Memory:** `ConversationSummaryMemory` condenses past interactions into summaries, providing a concise overview for the agent to reference. \\n\\n\\nThis combination of tool integration and memory support allows LangChain agents to be more capable and context-aware. \\n'}"
      ]
     },
     "execution_count": 26,
     "metadata": {},
     "output_type": "execute_result"
    }
   ],
   "source": [
    "response"
   ]
  }
 ],
 "metadata": {
  "kernelspec": {
   "display_name": "ultimate_rag_bootcamp",
   "language": "python",
   "name": "python3"
  },
  "language_info": {
   "codemirror_mode": {
    "name": "ipython",
    "version": 3
   },
   "file_extension": ".py",
   "mimetype": "text/x-python",
   "name": "python",
   "nbconvert_exporter": "python",
   "pygments_lexer": "ipython3",
   "version": "3.13.5"
  }
 },
 "nbformat": 4,
 "nbformat_minor": 5
}
