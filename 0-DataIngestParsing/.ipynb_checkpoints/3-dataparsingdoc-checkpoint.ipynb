{
 "cells": [
  {
   "cell_type": "markdown",
   "id": "8e5021a3",
   "metadata": {},
   "source": [
    "### Word Document Processing"
   ]
  },
  {
   "cell_type": "code",
   "execution_count": null,
   "id": "ed43f39d",
   "metadata": {},
   "outputs": [],
   "source": [
    "from langchain_community.document_loaders import Docx2txtLoader, UnstructuredWordDocumentLoader"
   ]
  },
  {
   "cell_type": "code",
   "execution_count": 5,
   "id": "854758fd",
   "metadata": {},
   "outputs": [
    {
     "name": "stdout",
     "output_type": "stream",
     "text": [
      " Using Docx2txtLoader\n",
      " Loaded 1 document(s)\n",
      "Content preview: Project Proposal: RAG Implementation\n",
      "\n",
      "Executive Summary\n",
      "\n",
      "This proposal outlines the implementation of a Retrieval-Augmented Generation system for our organization.\n",
      "\n",
      "Objectives\n",
      "\n",
      "Key objectives include:...\n",
      "Metadata: {'source': 'data/word_files/proposal.docx'}\n"
     ]
    }
   ],
   "source": [
    "## Method 1: Using DocxtextLoader\n",
    "print(\" Using Docx2txtLoader\")\n",
    "try:\n",
    "    docx_loader  = Docx2txtLoader(\"data/word_files/proposal.docx\")\n",
    "    docs = docx_loader.load()\n",
    "    print(f\" Loaded {len(docs)} document(s)\")\n",
    "    print(f\"Content preview: {docs[0].page_content[:200]}...\")\n",
    "    print(f\"Metadata: {docs[0].metadata}\")\n",
    "except Exception as e:\n",
    "    print(f\"Exception {e}\")"
   ]
  },
  {
   "cell_type": "code",
   "execution_count": 10,
   "id": "4d83dac3",
   "metadata": {},
   "outputs": [
    {
     "name": "stdout",
     "output_type": "stream",
     "text": [
      "\n",
      " Using UnstructuredWordDocumentLoader\n",
      "Exception File is not a zip file\n"
     ]
    }
   ],
   "source": [
    "# Method 2 \n",
    "print(\"\\n Using UnstructuredWordDocumentLoader\")\n",
    "\n",
    "try:\n",
    "    unstructured_loader = UnstructuredWordDocumentLoader(\"data/word_files/proposal.docx\", mode=\"elements\")\n",
    "    unstructured_doc = unstructured_loader.load()\n",
    "    print(f\" Loaded {len(unstructured_doc)}\")\n",
    "    for i, doc in enumerate(unstructured_doc[:3]):\n",
    "        print(f\"\\n Element {i+1}:\")\n",
    "        print(f\"Type: {doc.metadata.get('category', 'unknown')}\")\n",
    "        print(f\"Content: {doc.page_content[:100]}..\")\n",
    "except Exception as e:\n",
    "    print(f\"Exception {e}\")"
   ]
  }
 ],
 "metadata": {
  "kernelspec": {
   "display_name": "ultimate_rag_bootcamp",
   "language": "python",
   "name": "python3"
  },
  "language_info": {
   "codemirror_mode": {
    "name": "ipython",
    "version": 3
   },
   "file_extension": ".py",
   "mimetype": "text/x-python",
   "name": "python",
   "nbconvert_exporter": "python",
   "pygments_lexer": "ipython3",
   "version": "3.13.5"
  }
 },
 "nbformat": 4,
 "nbformat_minor": 5
}
