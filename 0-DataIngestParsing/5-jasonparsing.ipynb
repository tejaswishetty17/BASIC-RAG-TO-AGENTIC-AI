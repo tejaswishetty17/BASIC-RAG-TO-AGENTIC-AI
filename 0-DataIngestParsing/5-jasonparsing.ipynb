{
 "cells": [
  {
   "cell_type": "markdown",
   "id": "f03132e7",
   "metadata": {},
   "source": [
    "### Json Parsing and Processing"
   ]
  },
  {
   "cell_type": "code",
   "execution_count": null,
   "id": "bd32014f",
   "metadata": {},
   "outputs": [],
   "source": [
    "import json\n",
    "import os\n",
    "\n",
    "os.makedirs(\"data/json_files\", exist_ok=True)"
   ]
  },
  {
   "cell_type": "code",
   "execution_count": 2,
   "id": "621434bb",
   "metadata": {},
   "outputs": [],
   "source": [
    "# Sample nested JSON data\n",
    "json_data = {\n",
    "    \"company\": \"TechCorp\",\n",
    "    \"employees\": [\n",
    "        {\n",
    "            \"id\": 1,\n",
    "            \"name\": \"John Doe\",\n",
    "            \"role\": \"Software Engineer\",\n",
    "            \"skills\": [\"Python\", \"JavaScript\", \"React\"],\n",
    "            \"projects\": [\n",
    "                {\"name\": \"RAG System\", \"status\": \"In Progress\"},\n",
    "                {\"name\": \"Data Pipeline\", \"status\": \"Completed\"}\n",
    "            ]\n",
    "        },\n",
    "        {\n",
    "            \"id\": 2,\n",
    "            \"name\": \"Jane Smith\",\n",
    "            \"role\": \"Data Scientist\",\n",
    "            \"skills\": [\"Python\", \"Machine Learning\", \"SQL\"],\n",
    "            \"projects\": [\n",
    "                {\"name\": \"ML Model\", \"status\": \"In Progress\"},\n",
    "                {\"name\": \"Analytics Dashboard\", \"status\": \"Planning\"}\n",
    "            ]\n",
    "        }\n",
    "    ],\n",
    "    \"departments\": {\n",
    "        \"engineering\": {\n",
    "            \"head\": \"Mike Johnson\",\n",
    "            \"budget\": 1000000,\n",
    "            \"team_size\": 25\n",
    "        },\n",
    "        \"data_science\": {\n",
    "            \"head\": \"Sarah Williams\",\n",
    "            \"budget\": 750000,\n",
    "            \"team_size\": 15\n",
    "        }\n",
    "    }\n",
    "}"
   ]
  },
  {
   "cell_type": "code",
   "execution_count": 3,
   "id": "9ec9d698",
   "metadata": {},
   "outputs": [
    {
     "data": {
      "text/plain": [
       "{'company': 'TechCorp',\n",
       " 'employees': [{'id': 1,\n",
       "   'name': 'John Doe',\n",
       "   'role': 'Software Engineer',\n",
       "   'skills': ['Python', 'JavaScript', 'React'],\n",
       "   'projects': [{'name': 'RAG System', 'status': 'In Progress'},\n",
       "    {'name': 'Data Pipeline', 'status': 'Completed'}]},\n",
       "  {'id': 2,\n",
       "   'name': 'Jane Smith',\n",
       "   'role': 'Data Scientist',\n",
       "   'skills': ['Python', 'Machine Learning', 'SQL'],\n",
       "   'projects': [{'name': 'ML Model', 'status': 'In Progress'},\n",
       "    {'name': 'Analytics Dashboard', 'status': 'Planning'}]}],\n",
       " 'departments': {'engineering': {'head': 'Mike Johnson',\n",
       "   'budget': 1000000,\n",
       "   'team_size': 25},\n",
       "  'data_science': {'head': 'Sarah Williams',\n",
       "   'budget': 750000,\n",
       "   'team_size': 15}}}"
      ]
     },
     "execution_count": 3,
     "metadata": {},
     "output_type": "execute_result"
    }
   ],
   "source": [
    "json_data"
   ]
  },
  {
   "cell_type": "code",
   "execution_count": 4,
   "id": "d019a072",
   "metadata": {},
   "outputs": [],
   "source": [
    "with open('data/json_files/company_data.json', 'w') as f:\n",
    "    json.dump(json_data, f, indent=2)"
   ]
  },
  {
   "cell_type": "code",
   "execution_count": 5,
   "id": "77acee53",
   "metadata": {},
   "outputs": [],
   "source": [
    "# Save JSON Lines format\n",
    "jsonl_data = [\n",
    "    {\"timestamp\": \"2024-01-01\", \"event\": \"user_login\", \"user_id\": 123},\n",
    "    {\"timestamp\": \"2024-01-01\", \"event\": \"page_view\", \"user_id\": 123, \"page\": \"/home\"},\n",
    "    {\"timestamp\": \"2024-01-01\", \"event\": \"purchase\", \"user_id\": 123, \"amount\": 99.99}\n",
    "]\n",
    "\n",
    "with open('data/json_files/events.jsonl', 'w') as f:\n",
    "    for item in jsonl_data:\n",
    "        f.write(json.dumps(item) + '\\n')"
   ]
  },
  {
   "cell_type": "markdown",
   "id": "55bcacd4",
   "metadata": {},
   "source": [
    "### JSON Processing Strategies"
   ]
  },
  {
   "cell_type": "code",
   "execution_count": 8,
   "id": "c6710b05",
   "metadata": {},
   "outputs": [
    {
     "name": "stdout",
     "output_type": "stream",
     "text": [
      "JSONLoader - Extract specific fields\n",
      "Loaded 2 employee documents\n",
      "First employee {\"id\": 1, \"name\": \"John Doe\", \"role\": \"Software Engineer\", \"skills\": [\"Python\", \"JavaScript\", \"React\"], \"projects\": [{\"name\": \"RAG System\", \"status\": \"In Progress\"}, {\"name\": \"Data Pipeline\", \"status\"...\n",
      "[Document(metadata={'source': 'E:\\\\workspace\\\\ultimate_rag_bootcamp\\\\0-DataIngestParsing\\\\data\\\\json_files\\\\company_data.json', 'seq_num': 1}, page_content='{\"id\": 1, \"name\": \"John Doe\", \"role\": \"Software Engineer\", \"skills\": [\"Python\", \"JavaScript\", \"React\"], \"projects\": [{\"name\": \"RAG System\", \"status\": \"In Progress\"}, {\"name\": \"Data Pipeline\", \"status\": \"Completed\"}]}'), Document(metadata={'source': 'E:\\\\workspace\\\\ultimate_rag_bootcamp\\\\0-DataIngestParsing\\\\data\\\\json_files\\\\company_data.json', 'seq_num': 2}, page_content='{\"id\": 2, \"name\": \"Jane Smith\", \"role\": \"Data Scientist\", \"skills\": [\"Python\", \"Machine Learning\", \"SQL\"], \"projects\": [{\"name\": \"ML Model\", \"status\": \"In Progress\"}, {\"name\": \"Analytics Dashboard\", \"status\": \"Planning\"}]}')]\n"
     ]
    }
   ],
   "source": [
    "from langchain_community.document_loaders import JSONLoader\n",
    "import json\n",
    "\n",
    "#Method 1: JsonLoader with js_schema\n",
    "print('JSONLoader - Extract specific fields')\n",
    "\n",
    "#Extract employee information\n",
    "employee_loader = JSONLoader(\n",
    "    file_path='data/json_files/company_data.json',\n",
    "    jq_schema='.employees[]', #jq qeury to extract each employee\n",
    "    text_content=False #Get Full JSON objects\n",
    ")\n",
    "\n",
    "employee_docs = employee_loader.load()\n",
    "print(f\"Loaded {len(employee_docs)} employee documents\")\n",
    "print(f\"First employee {employee_docs[0].page_content[:200]}...\")\n",
    "print(employee_docs)"
   ]
  },
  {
   "cell_type": "code",
   "execution_count": 22,
   "id": "a1d436d1",
   "metadata": {},
   "outputs": [
    {
     "name": "stdout",
     "output_type": "stream",
     "text": [
      "\n",
      " Custom JSON Processing\n"
     ]
    }
   ],
   "source": [
    "from langchain_core.documents import Document\n",
    "from typing import List\n",
    "\n",
    "print(\"\\n Custom JSON Processing\")\n",
    "\n",
    "def process_json_intelligently(filepath:str)-> List[Document]:\n",
    "    \"\"\"Process JSON with intelligent flattening and context preservation\"\"\"\n",
    "    with open(filepath, 'r') as f:\n",
    "        data = json.load(f)\n",
    "\n",
    "    documents = []\n",
    "\n",
    "    #Strategy 1: Create documents for each employee with full context \n",
    "\n",
    "    for emp in data.get('employees', []):\n",
    "        content = f\"\"\"Employee Profile:\n",
    "        Name : {emp['name']}\n",
    "        Role : {emp['role']}\n",
    "        Skills:{emp['skills']}\n",
    "        \n",
    "        Projects:\"\"\"\n",
    "        for proj in emp.get('projects', []):\n",
    "            content += f\"\\n - {proj['name']} (Status: {proj['status']})\"\n",
    "        \n",
    "        doc = Document(\n",
    "            page_content=content, \n",
    "            metedata = {\n",
    "                'source':filepath,\n",
    "                'data_type':'employee_profile', \n",
    "                'employee_id':emp['id'], \n",
    "                'employee_name':emp['name'], \n",
    "                'role':emp['role']\n",
    "            }\n",
    "        )\n",
    "        documents.append(doc)\n",
    "\n",
    "    return documents\n"
   ]
  },
  {
   "cell_type": "code",
   "execution_count": 27,
   "id": "a75ed33e",
   "metadata": {},
   "outputs": [
    {
     "name": "stdout",
     "output_type": "stream",
     "text": [
      "Employee Profile:\n",
      "        Name : John Doe\n",
      "        Role : Software Engineer\n",
      "        Skills:['Python', 'JavaScript', 'React']\n",
      "\n",
      "        Projects:\n",
      " - RAG System (Status: In Progress)\n",
      " - Data Pipeline (Status: Completed)\n"
     ]
    }
   ],
   "source": [
    "json_data = process_json_intelligently('data/json_files/company_data.json')\n",
    "print(json_data[0].page_content)"
   ]
  }
 ],
 "metadata": {
  "kernelspec": {
   "display_name": "ultimate_rag_bootcamp",
   "language": "python",
   "name": "python3"
  },
  "language_info": {
   "codemirror_mode": {
    "name": "ipython",
    "version": 3
   },
   "file_extension": ".py",
   "mimetype": "text/x-python",
   "name": "python",
   "nbconvert_exporter": "python",
   "pygments_lexer": "ipython3",
   "version": "3.13.5"
  }
 },
 "nbformat": 4,
 "nbformat_minor": 5
}
