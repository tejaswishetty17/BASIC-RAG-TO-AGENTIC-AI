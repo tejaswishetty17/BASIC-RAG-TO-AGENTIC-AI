{
 "cells": [
  {
   "cell_type": "markdown",
   "id": "4be16d5c",
   "metadata": {},
   "source": [
    "### SQL Databases"
   ]
  },
  {
   "cell_type": "code",
   "execution_count": 2,
   "id": "ca7f099c",
   "metadata": {},
   "outputs": [],
   "source": [
    "### Creating sample SQLite Database\n",
    "\n",
    "import sqlite3\n",
    "import os\n",
    "\n",
    "os.makedirs('data/databases', exist_ok=True)"
   ]
  },
  {
   "cell_type": "code",
   "execution_count": null,
   "id": "1c8ee051",
   "metadata": {},
   "outputs": [],
   "source": [
    "### Create a sample database\n",
    "\n",
    "conn = sqlite3.connect('data/databases/company.db')\n",
    "cursor = conn.cursor()\n"
   ]
  },
  {
   "cell_type": "code",
   "execution_count": null,
   "id": "b180033a",
   "metadata": {},
   "outputs": [
    {
     "data": {
      "text/plain": [
       "<sqlite3.Cursor at 0x2644d16fc40>"
      ]
     },
     "execution_count": 4,
     "metadata": {},
     "output_type": "execute_result"
    }
   ],
   "source": [
    "#Create tables\n",
    "\n",
    "cursor.execute('''CREATE TABLE IF NOT EXISTS employee\n",
    "               (id INTEGER PRIMARY KEY, name TEXT, role TEXT, department TEXT, salary REAL)''')\n"
   ]
  },
  {
   "cell_type": "code",
   "execution_count": 5,
   "id": "f5ddccdf",
   "metadata": {},
   "outputs": [
    {
     "data": {
      "text/plain": [
       "<sqlite3.Cursor at 0x2644d16fc40>"
      ]
     },
     "execution_count": 5,
     "metadata": {},
     "output_type": "execute_result"
    }
   ],
   "source": [
    "cursor.execute('''CREATE TABLE IF NOT EXISTS projects\n",
    "               (id INTEGER PRIMARY KEY, name TEXT, status TEXT, budget REAL, lead_id INTEGER)''')"
   ]
  },
  {
   "cell_type": "code",
   "execution_count": null,
   "id": "de4bf2bf",
   "metadata": {},
   "outputs": [],
   "source": [
    "# Insert sample data\n",
    "employees = [\n",
    "    (1, 'John Doe', 'Senior Developer', 'Engineering', 95000),\n",
    "    (2, 'Jane Smith', 'Data Scientist', 'Analytics', 105000),\n",
    "    (3, 'Mike Johnson', 'Product Manager', 'Product', 110000),\n",
    "    (4, 'Sarah Williams', 'DevOps Engineer', 'Engineering', 98000)\n",
    "]\n",
    "\n",
    "projects = [\n",
    "    (1, 'RAG Implementation', 'Active', 150000, 1),\n",
    "    (2, 'Data Pipeline', 'Completed', 80000, 2),\n",
    "    (3, 'Customer Portal', 'Planning', 200000, 3),\n",
    "    (4, 'ML Platform', 'Active', 250000, 2)\n",
    "]\n"
   ]
  },
  {
   "cell_type": "code",
   "execution_count": 10,
   "id": "4d4fb812",
   "metadata": {},
   "outputs": [
    {
     "data": {
      "text/plain": [
       "<sqlite3.Cursor at 0x2644d16fc40>"
      ]
     },
     "execution_count": 10,
     "metadata": {},
     "output_type": "execute_result"
    }
   ],
   "source": [
    "cursor.executemany('INSERT OR REPLACE INTO employee VALUES (?,?,?,?,?)', employees)\n",
    "cursor.executemany('INSERT OR REPLACE INTO projects VALUES (?,?,?,?,?)', projects)"
   ]
  },
  {
   "cell_type": "code",
   "execution_count": 13,
   "id": "3e2ea9a7",
   "metadata": {},
   "outputs": [],
   "source": [
    "conn.commit()\n",
    "conn.close()"
   ]
  },
  {
   "cell_type": "markdown",
   "id": "809bc617",
   "metadata": {},
   "source": [
    "### Database Content Extraction "
   ]
  },
  {
   "cell_type": "code",
   "execution_count": 15,
   "id": "d791061e",
   "metadata": {},
   "outputs": [],
   "source": [
    "from langchain_community.utilities import SQLDatabase\n",
    "from langchain_community.document_loaders import SQLDatabaseLoader"
   ]
  },
  {
   "cell_type": "code",
   "execution_count": 20,
   "id": "699d555c",
   "metadata": {},
   "outputs": [
    {
     "name": "stdout",
     "output_type": "stream",
     "text": [
      "Table: ['employee', 'projects']\n",
      "\n",
      " Table DDL:\n",
      "\n",
      "CREATE TABLE employee (\n",
      "\tid INTEGER, \n",
      "\tname TEXT, \n",
      "\trole TEXT, \n",
      "\tdepartment TEXT, \n",
      "\tsalary REAL, \n",
      "\tPRIMARY KEY (id)\n",
      ")\n",
      "\n",
      "/*\n",
      "3 rows from employee table:\n",
      "id\tname\trole\tdepartment\tsalary\n",
      "1\tJohn Doe\tSenior Developer\tEngineering\t95000.0\n",
      "2\tJane Smith\tData Scientist\tAnalytics\t105000.0\n",
      "3\tMike Johnson\tProduct Manager\tProduct\t110000.0\n",
      "*/\n",
      "\n",
      "\n",
      "CREATE TABLE projects (\n",
      "\tid INTEGER, \n",
      "\tname TEXT, \n",
      "\tstatus TEXT, \n",
      "\tbudget REAL, \n",
      "\tlead_id INTEGER, \n",
      "\tPRIMARY KEY (id)\n",
      ")\n",
      "\n",
      "/*\n",
      "3 rows from projects table:\n",
      "id\tname\tstatus\tbudget\tlead_id\n",
      "1\tRAG Implementation\tActive\t150000.0\t1\n",
      "2\tData Pipeline\tCompleted\t80000.0\t2\n",
      "3\tCustomer Portal\tPlanning\t200000.0\t3\n",
      "*/\n"
     ]
    }
   ],
   "source": [
    "# Method1 SQLDATABASE Utility\n",
    "db = SQLDatabase.from_uri(\"sqlite:///data/databases/company.db\")\n",
    "\n",
    "###get Database info\n",
    "print(f\"Table: {db.get_usable_table_names()}\")\n",
    "print(f\"\\n Table DDL:\")\n",
    "print(db.get_table_info())"
   ]
  },
  {
   "cell_type": "code",
   "execution_count": 28,
   "id": "5e134bb6",
   "metadata": {},
   "outputs": [
    {
     "name": "stdout",
     "output_type": "stream",
     "text": [
      "\n",
      " Custome SQL Processing\n"
     ]
    }
   ],
   "source": [
    "from typing import List\n",
    "from langchain_core.documents import Document\n",
    "###Method 2: Custom SQL to Document conversion\n",
    "\n",
    "print(\"\\n Custome SQL Processing\")\n",
    "\n",
    "def sql_to_documents(db_path:str)->List[Document]:\n",
    "    \"\"\"Convert SQL database to documents with context\"\"\"\n",
    "    conn = sqlite3.connect(db_path)\n",
    "    cursor = conn.cursor()\n",
    "    documents=[]\n",
    "\n",
    "    #Strategy 1: Create documents for each table \n",
    "    cursor.execute(\"SELECT name from sqlite_master WHERE type='table';\")\n",
    "    tables = cursor.fetchall()\n",
    "\n",
    "    for table in tables:\n",
    "        table_name = table[0]\n",
    "\n",
    "        #Get table schema \n",
    "        cursor.execute(f\"PRAGMA table_info({table_name});\")\n",
    "        columns = cursor.fetchall()\n",
    "        column_names = [col[1] for col in columns]\n",
    "\n",
    "        ##Get table data\n",
    "        cursor.execute(f\"SELECT * from {table_name}\")\n",
    "        rows = cursor.fetchall()\n",
    "\n",
    "        #Create table overview document\n",
    "        table_content = f\"Table :{table_name}\\n\"\n",
    "        table_content += f\"Columns: {' '.join(column_names)}\\n\"\n",
    "        table_content += f\"Total Records: {len(rows)}\\n\\n\"\n",
    "\n",
    "        #Add sample records\n",
    "        table_content += \"Sample Records:\\n\"\n",
    "        for row in rows[:5]: #First 5 records\n",
    "            record = dict(zip(column_names, row))\n",
    "            table_content += f\"{record}\\n\"\n",
    "\n",
    "        doc = Document(\n",
    "            page_content=table_content,\n",
    "            metadata = {\n",
    "                'source':db_path,\n",
    "                'table_name':table_name,\n",
    "                'num_records':len(rows),\n",
    "                'data_type':'sql_table'\n",
    "            }\n",
    "        )\n",
    "        documents.append(doc)\n",
    "\n",
    "    ###Strategy 2: Create relationship documents \n",
    "    #Example : Join employees and projects\n",
    "    cursor.execute(\"\"\"SELECT e.name, e.role, p.name as project_name, p.status\n",
    "                   FROM employee e\n",
    "                   JOIN projects p ON e.id=p.lead_id\"\"\")\n",
    "    relationships = cursor.fetchall()\n",
    "    rel_content = \"Employee_Project Relationships:\\n\\n\"\n",
    "    for rel in relationships:\n",
    "        rel_content += f\"{rel[0]} ({rel[1]}) leads {rel[2]} Status: {rel[3]}\\n\"\n",
    "\n",
    "    rel_doc = Document(\n",
    "        page_content=rel_content, \n",
    "        metadata = {\n",
    "            'source':db_path, \n",
    "            'data_type':'sql_relationships',\n",
    "            'query':'employee_project_join'\n",
    "        }\n",
    "    ) \n",
    "    documents.append(rel_doc)\n",
    "\n",
    "    conn.close()\n",
    "    return documents\n"
   ]
  },
  {
   "cell_type": "code",
   "execution_count": 40,
   "id": "3eb2a5f6",
   "metadata": {},
   "outputs": [
    {
     "name": "stdout",
     "output_type": "stream",
     "text": [
      "Table :employee\n",
      "Columns: id name role department salary\n",
      "Total Records: 4\n",
      "\n",
      "Sample Records:\n",
      "{'id': 1, 'name': 'John Doe', 'role': 'Senior Developer', 'department': 'Engineering', 'salary': 95000.0}\n",
      "{'id': 2, 'name': 'Jane Smith', 'role': 'Data Scientist', 'department': 'Analytics', 'salary': 105000.0}\n",
      "{'id': 3, 'name': 'Mike Johnson', 'role': 'Product Manager', 'department': 'Product', 'salary': 110000.0}\n",
      "{'id': 4, 'name': 'Sarah Williams', 'role': 'DevOps Engineer', 'department': 'Engineering', 'salary': 98000.0}\n",
      "\n",
      "------------------------------------------------------------------------------------------------------------------------------------------------------\n",
      "Table :projects\n",
      "Columns: id name status budget lead_id\n",
      "Total Records: 4\n",
      "\n",
      "Sample Records:\n",
      "{'id': 1, 'name': 'RAG Implementation', 'status': 'Active', 'budget': 150000.0, 'lead_id': 1}\n",
      "{'id': 2, 'name': 'Data Pipeline', 'status': 'Completed', 'budget': 80000.0, 'lead_id': 2}\n",
      "{'id': 3, 'name': 'Customer Portal', 'status': 'Planning', 'budget': 200000.0, 'lead_id': 3}\n",
      "{'id': 4, 'name': 'ML Platform', 'status': 'Active', 'budget': 250000.0, 'lead_id': 2}\n",
      "\n",
      "------------------------------------------------------------------------------------------------------------------------------------------------------\n",
      "Employee_Project Relationships:\n",
      "\n",
      "John Doe (Senior Developer) leads RAG Implementation Status: Active\n",
      "Jane Smith (Data Scientist) leads Data Pipeline Status: Completed\n",
      "Mike Johnson (Product Manager) leads Customer Portal Status: Planning\n",
      "Jane Smith (Data Scientist) leads ML Platform Status: Active\n",
      "\n"
     ]
    }
   ],
   "source": [
    "sql_data = sql_to_documents(\"data/databases/company.db\")\n",
    "print(sql_data[0].page_content)\n",
    "print(\"-\"*150)\n",
    "print(sql_data[1].page_content)\n",
    "print(\"-\"*150)\n",
    "print(sql_data[2].page_content)"
   ]
  }
 ],
 "metadata": {
  "kernelspec": {
   "display_name": "ultimate_rag_bootcamp",
   "language": "python",
   "name": "python3"
  },
  "language_info": {
   "codemirror_mode": {
    "name": "ipython",
    "version": 3
   },
   "file_extension": ".py",
   "mimetype": "text/x-python",
   "name": "python",
   "nbconvert_exporter": "python",
   "pygments_lexer": "ipython3",
   "version": "3.13.5"
  }
 },
 "nbformat": 4,
 "nbformat_minor": 5
}
