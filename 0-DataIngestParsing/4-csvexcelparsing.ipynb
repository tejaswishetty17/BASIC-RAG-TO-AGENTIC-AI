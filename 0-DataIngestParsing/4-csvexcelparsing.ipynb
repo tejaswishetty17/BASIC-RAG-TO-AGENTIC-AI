{
 "cells": [
  {
   "cell_type": "markdown",
   "id": "d037f25d",
   "metadata": {},
   "source": [
    "### CSV And Excel files - Structured Data"
   ]
  },
  {
   "cell_type": "code",
   "execution_count": null,
   "id": "2f680ac8",
   "metadata": {},
   "outputs": [],
   "source": [
    "import pandas as pd\n",
    "import os"
   ]
  },
  {
   "cell_type": "code",
   "execution_count": 5,
   "id": "8195c197",
   "metadata": {},
   "outputs": [],
   "source": [
    "os.makedirs(\"data/structured_files\", exist_ok = True)"
   ]
  },
  {
   "cell_type": "code",
   "execution_count": null,
   "id": "420bbb7e",
   "metadata": {},
   "outputs": [],
   "source": [
    "# Create sample data\n",
    "data = {\n",
    "    'Product': ['Laptop', 'Mouse', 'Keyboard', 'Monitor', 'Webcam'],\n",
    "    'Category': ['Electronics', 'Accessories', 'Accessories', 'Electronics', 'Electronics'],\n",
    "    'Price': [999.99, 29.99, 79.99, 299.99, 89.99],\n",
    "    'Stock': [50, 200, 150, 75, 100],\n",
    "    'Description': [\n",
    "        'High-performance laptop with 16GB RAM and 512GB SSD',\n",
    "        'Wireless optical mouse with ergonomic design',\n",
    "        'Mechanical keyboard with RGB backlighting',\n",
    "        '27-inch 4K monitor with HDR support',\n",
    "        '1080p webcam with noise cancellation'\n",
    "    ]\n",
    "}\n",
    "\n",
    "#Save CSV\n",
    "df = pd.DataFrame(data)\n",
    "df.to_csv('data/structured_files/products.csv')\n"
   ]
  },
  {
   "cell_type": "code",
   "execution_count": null,
   "id": "c2532be3",
   "metadata": {},
   "outputs": [],
   "source": [
    "# Save as Excel with multiple sheets\n",
    "with pd.ExcelWriter('data/structured_files/inventory.xlsx') as writer:\n",
    "    df.to_excel(writer, sheet_name='Products', index=False)\n",
    "    \n",
    "    # Add another sheet\n",
    "    summary_data = {\n",
    "        'Category': ['Electronics', 'Accessories'],\n",
    "        'Total_Items': [3, 2],\n",
    "        'Total_Value': [1389.97, 109.98]\n",
    "    }\n",
    "    pd.DataFrame(summary_data).to_excel(writer, sheet_name='Summary', index=False)"
   ]
  },
  {
   "cell_type": "markdown",
   "id": "10c2d549",
   "metadata": {},
   "source": [
    "### CSV Processing"
   ]
  },
  {
   "cell_type": "code",
   "execution_count": 6,
   "id": "a48f5a0b",
   "metadata": {},
   "outputs": [],
   "source": [
    "from langchain_community.document_loaders import CSVLoader\n",
    "from langchain_community.document_loaders import UnstructuredCSVLoader"
   ]
  },
  {
   "cell_type": "code",
   "execution_count": 16,
   "id": "e577c3b6",
   "metadata": {},
   "outputs": [
    {
     "name": "stdout",
     "output_type": "stream",
     "text": [
      " CSVLoader - Row-based Documents\n",
      "[Document(metadata={'source': 'data/structured_files/products.csv', 'row': 0}, page_content='Product: Laptop\\nCategory: Electronics\\nPrice: 999.99\\nStock: 50\\nDescription: High-performance laptop with 16GB RAM and 512GB SSD'), Document(metadata={'source': 'data/structured_files/products.csv', 'row': 1}, page_content='Product: Mouse\\nCategory: Accessories\\nPrice: 29.99\\nStock: 200\\nDescription: Wireless optical mouse with ergonomic design'), Document(metadata={'source': 'data/structured_files/products.csv', 'row': 2}, page_content='Product: Keyboard\\nCategory: Accessories\\nPrice: 79.99\\nStock: 150\\nDescription: Mechanical keyboard with RGB backlighting'), Document(metadata={'source': 'data/structured_files/products.csv', 'row': 3}, page_content='Product: Monitor\\nCategory: Electronics\\nPrice: 299.99\\nStock: 75\\nDescription: 27-inch 4K monitor with HDR support'), Document(metadata={'source': 'data/structured_files/products.csv', 'row': 4}, page_content='Product: Webcam\\nCategory: Electronics\\nPrice: 89.99\\nStock: 100\\nDescription: 1080p webcam with noise cancellation')]\n",
      " Loaded 5 documents (one per row)\n",
      "\n",
      " First document:\n",
      "Content: Product: Laptop\n",
      "Category: Electronics\n",
      "Price: 999.99\n",
      "Stock: 50\n",
      "Description: High-performance laptop with 16GB RAM and 512GB SSD\n",
      "Metadata: {'source': 'data/structured_files/products.csv', 'row': 0}\n"
     ]
    }
   ],
   "source": [
    "###Method 1: CSV Loader -Each row becomes a document\n",
    "print(' CSVLoader - Row-based Documents')\n",
    "\n",
    "csv_loader = CSVLoader(\n",
    "    file_path='data/structured_files/products.csv', \n",
    "    encoding='utf-8', \n",
    "    csv_args={\n",
    "        'delimiter':',',\n",
    "        'quotechar':'\"',\n",
    "    }\n",
    ")\n",
    "\n",
    "csv_docs = csv_loader.load()\n",
    "print(csv_docs)\n",
    "print(f\" Loaded {len(csv_docs)} documents (one per row)\")\n",
    "print(f\"\\n First document:\")\n",
    "print(f\"Content: {csv_docs[0].page_content}\")\n",
    "print(f\"Metadata: {csv_docs[0].metadata}\")"
   ]
  },
  {
   "cell_type": "code",
   "execution_count": 23,
   "id": "0af48e24",
   "metadata": {},
   "outputs": [
    {
     "name": "stdout",
     "output_type": "stream",
     "text": [
      "\n",
      " Custom CSV Processing\n"
     ]
    }
   ],
   "source": [
    "from typing import List\n",
    "from langchain_core.documents import Document\n",
    "## Method 2: Custom CSV Processing for better control\n",
    "print(\"\\n Custom CSV Processing\")\n",
    "def process_csv_intelligently(filepath:str)->List[Document]:\n",
    "    \"\"\"Process CSV with intelligent document creation\"\"\"\n",
    "    df = pd.read_csv(filepath)\n",
    "    documents = []\n",
    "\n",
    "    #Strategy 1: One document per row with structured content\n",
    "    for idx, row in df.iterrows():\n",
    "        #create structured content\n",
    "        content = f\"\"\"Product Information:\n",
    "        Name: {row['Product']}\n",
    "        Category: {row['Category']}, \n",
    "        Price: {row['Price']}, \n",
    "        Stock: {row['Stock']}, \n",
    "        Description: {row['Description']}\"\"\"\n",
    "\n",
    "        #Create doc with rich metadata\n",
    "        doc = Document(\n",
    "            page_content=content, \n",
    "            metadata={\n",
    "                'source': filepath, \n",
    "                'row_index': idx, \n",
    "                'product_name': row['Product'], \n",
    "                'category':row['Category'], \n",
    "                'price':row['Price'], \n",
    "                'data_type': 'product_info'\n",
    "            }\n",
    "        )\n",
    "        documents.append(doc)\n",
    "        return documents\n"
   ]
  },
  {
   "cell_type": "code",
   "execution_count": 35,
   "id": "c6a4edd6",
   "metadata": {},
   "outputs": [
    {
     "name": "stdout",
     "output_type": "stream",
     "text": [
      "Product Information:\n",
      "        Name: Laptop\n",
      "        Category: Electronics, \n",
      "        Price: 999.99, \n",
      "        Stock: 50, \n",
      "        Description: High-performance laptop with 16GB RAM and 512GB SSD\n"
     ]
    }
   ],
   "source": [
    "csv_docs = process_csv_intelligently('data/structured_files/products.csv')\n",
    "print(csv_docs[0].page_content)"
   ]
  },
  {
   "cell_type": "markdown",
   "id": "65c033af",
   "metadata": {},
   "source": [
    "#### Excel Processing"
   ]
  },
  {
   "cell_type": "code",
   "execution_count": 37,
   "id": "970b6349",
   "metadata": {},
   "outputs": [
    {
     "name": "stdout",
     "output_type": "stream",
     "text": [
      "Pandas-based Excel Processing\n"
     ]
    }
   ],
   "source": [
    "#Method 1: Using pandas for full control \n",
    "\n",
    "print(\"Pandas-based Excel Processing\")\n",
    "\n",
    "def process_excel_with_pandas(filepath:str)->List[Document]:\n",
    "    \"\"\"Process Excel with sheet awareness\"\"\"\n",
    "    documents= []\n",
    "\n",
    "    #Read all sheets\n",
    "    excel_file = pd.ExcelFile(filepath)\n",
    "\n",
    "    for sheet_name in excel_file.sheet_names:\n",
    "        df = pd.read_excel(filepath, sheet_name=sheet_name)\n",
    "\n",
    "        #Create documents for each sheet\n",
    "        sheet_content = f\"Sheet: {sheet_name}\\n\"\n",
    "        sheet_content += f\"Columns:{', '.join(df.columns)}\\n\"\n",
    "        sheet_content += f\"Rows: {len(df)}\\n\\n\"\n",
    "        sheet_content += df.to_string(index=False)\n",
    "\n",
    "        doc = Document(\n",
    "            page_content=sheet_content, \n",
    "            metadata = {\n",
    "                'source':filepath,\n",
    "                'sheet_name':sheet_name, \n",
    "                'num_rows': len(df), \n",
    "                'num_columns': len(df.columns), \n",
    "                'data_type':'excel_sheet'\n",
    "            }\n",
    "        )\n",
    "\n",
    "        documents.append(doc)\n",
    "    \n",
    "    return documents\n",
    "\n",
    "        "
   ]
  },
  {
   "cell_type": "code",
   "execution_count": 40,
   "id": "a568b861",
   "metadata": {},
   "outputs": [
    {
     "name": "stdout",
     "output_type": "stream",
     "text": [
      "Processed 2 sheets\n",
      "Sheet: Products\n",
      "Columns:Product, Category, Price, Stock, Description\n",
      "Rows: 5\n",
      "\n",
      " Product    Category  Price  Stock                                         Description\n",
      "  Laptop Electronics 999.99     50 High-performance laptop with 16GB RAM and 512GB SSD\n",
      "   Mouse Accessories  29.99    200        Wireless optical mouse with ergonomic design\n",
      "Keyboard Accessories  79.99    150           Mechanical keyboard with RGB backlighting\n",
      " Monitor Electronics 299.99     75                 27-inch 4K monitor with HDR support\n",
      "  Webcam Electronics  89.99    100                1080p webcam with noise cancellation\n"
     ]
    }
   ],
   "source": [
    "excel_docs = process_excel_with_pandas('data/structured_files/inventory.xlsx')\n",
    "print(f\"Processed {len(excel_docs)} sheets\")\n",
    "\n",
    "print(excel_docs[0].page_content)"
   ]
  },
  {
   "cell_type": "code",
   "execution_count": 47,
   "id": "1601617f",
   "metadata": {},
   "outputs": [
    {
     "name": "stdout",
     "output_type": "stream",
     "text": [
      "\n",
      " UnstructuredExcelLoader\n",
      "Exception No module named 'msoffcrypto'\n"
     ]
    }
   ],
   "source": [
    "from langchain_community.document_loaders import UnstructuredExcelLoader\n",
    "# Method 2: UnstructuredExcelLoader\n",
    "print(\"\\n UnstructuredExcelLoader\")\n",
    "\n",
    "try:\n",
    "    excel_loader = UnstructuredExcelLoader(\n",
    "        'data/structured_files/inventory.xlsx',\n",
    "        mode=\"elements\"\n",
    "    )\n",
    "    unstructured_docs = excel_loader.load()\n",
    "    print(unstructured_docs)\n",
    "except Exception as e:\n",
    "    print(f\"Exception {e}\")"
   ]
  }
 ],
 "metadata": {
  "kernelspec": {
   "display_name": "ultimate_rag_bootcamp",
   "language": "python",
   "name": "python3"
  },
  "language_info": {
   "codemirror_mode": {
    "name": "ipython",
    "version": 3
   },
   "file_extension": ".py",
   "mimetype": "text/x-python",
   "name": "python",
   "nbconvert_exporter": "python",
   "pygments_lexer": "ipython3",
   "version": "3.13.5"
  }
 },
 "nbformat": 4,
 "nbformat_minor": 5
}
