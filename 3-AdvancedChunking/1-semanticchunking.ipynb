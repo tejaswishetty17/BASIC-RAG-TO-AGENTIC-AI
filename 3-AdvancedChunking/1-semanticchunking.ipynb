{
 "cells": [
  {
   "cell_type": "markdown",
   "id": "773c8012",
   "metadata": {},
   "source": [
    "### Semantic Chunking\n",
    "- SemanticChunker is a document splitter that uses embedding similarity between sentences to decide chunk boundaries.\n",
    "\n",
    "- It ensures that each chunk is semantically coherent and not cut off mid-thought like traditional character/token splitters."
   ]
  },
  {
   "cell_type": "code",
   "execution_count": 14,
   "id": "ea1b60ae",
   "metadata": {},
   "outputs": [],
   "source": [
    "from sentence_transformers import SentenceTransformer\n",
    "from sklearn.metrics.pairwise import cosine_similarity\n",
    "import numpy as np"
   ]
  },
  {
   "cell_type": "code",
   "execution_count": 3,
   "id": "8cb94880",
   "metadata": {},
   "outputs": [],
   "source": [
    "#Initialize the model\n",
    "model = SentenceTransformer('all-MiniLM-L6-v2')\n",
    "\n",
    "##Sample text \n",
    "text = \"\"\"\n",
    "LangChain is a framework for building applications with LLMs.\n",
    "Langchain provides modular abstractions to combine LLMs with tools like OpenAI and Pinecone.\n",
    "You can create chains, agents, memory, and retrievers.\n",
    "The Eiffel Tower is located in Paris.\n",
    "France is a popular tourist destination.\n",
    "\"\"\""
   ]
  },
  {
   "cell_type": "code",
   "execution_count": 26,
   "id": "6a6d900a",
   "metadata": {},
   "outputs": [
    {
     "name": "stdout",
     "output_type": "stream",
     "text": [
      "\n",
      " Semantic Chunks:\n",
      "\n",
      "Chunk 1:\n",
      "LangChain is a framework for building applications with LLMs.Langchain provides modular abstractions to combine LLMs with tools like OpenAI and Pinecone.\n",
      "\n",
      "Chunk 2:\n",
      "You can create chains, agents, memory, and retrievers.\n",
      "\n",
      "Chunk 3:\n",
      "The Eiffel Tower is located in Paris.\n",
      "\n",
      "Chunk 4:\n",
      "France is a popular tourist destination.\n"
     ]
    }
   ],
   "source": [
    "## Step1: split into sentences\n",
    "sentences = [s.strip() for s in text.split(\"\\n\") if s.strip()]\n",
    "\n",
    "### step2: embed each sentence\n",
    "embeddings = model.encode(sentences)\n",
    "\n",
    "### Step3 : Initialize parameters\n",
    "threshold = 0.7 #Control the chunk tightness\n",
    "chunks = []\n",
    "current_chunk = [sentences[0]]\n",
    "\n",
    "### step4: Semantic grouping based on threshold\n",
    "for i in range(1, len(sentences)):\n",
    "    sim = (cosine_similarity(\n",
    "        [embeddings[i-1]], \n",
    "        [embeddings[i]]\n",
    "    )[0][0])\n",
    "\n",
    "    if sim>=threshold:\n",
    "        current_chunk.append(sentences[i])\n",
    "    else:\n",
    "        chunks.append(\"\".join(current_chunk))\n",
    "        current_chunk = [sentences[i]]\n",
    "### Append the last chunk\n",
    "chunks.append(\"\".join(current_chunk))\n",
    "\n",
    "###Output the chunks\n",
    "print(\"\\n Semantic Chunks:\")\n",
    "for idx, chunk in enumerate(chunks):\n",
    "    print(f\"\\nChunk {idx+1}:\\n{chunk}\")\n",
    "\n"
   ]
  },
  {
   "cell_type": "markdown",
   "id": "418c71e1",
   "metadata": {},
   "source": [
    "#### RAG Pipeline Modular Coding"
   ]
  },
  {
   "cell_type": "code",
   "execution_count": 57,
   "id": "c3aaeb02",
   "metadata": {},
   "outputs": [],
   "source": [
    "from sentence_transformers import SentenceTransformer\n",
    "from sklearn.metrics.pairwise import cosine_similarity\n",
    "from langchain.schema import Document\n",
    "from langchain.vectorstores import FAISS\n",
    "from langchain_openai import OpenAIEmbeddings\n",
    "from langchain.chat_models import init_chat_model\n",
    "from langchain.schema.runnable import RunnableLambda, RunnableMap\n",
    "from langchain.prompts import PromptTemplate\n",
    "from langchain_core.output_parsers import StrOutputParser\n",
    "import os\n",
    "\n",
    "os.environ[\"GROQ_API_KEY\"] = os.getenv(\"GROQ_API_KEY\")"
   ]
  },
  {
   "cell_type": "code",
   "execution_count": 93,
   "id": "3afcd3b1",
   "metadata": {},
   "outputs": [],
   "source": [
    "class ThresholdSemanticChunker:\n",
    "    def __init__(self, model_name = \"all-MiniLM-L6-V2\", threshold = 0.7):\n",
    "        self.model = SentenceTransformer(model_name)\n",
    "        self.threshold = threshold\n",
    "\n",
    "    def split(self, text:str):\n",
    "        sentences = [s.strip() for s in text.split('.') if s.strip()]\n",
    "        embeddings = self.model.encode(sentences)\n",
    "        chunks = []\n",
    "        current_chunk = [sentences[0]]\n",
    "\n",
    "        for i in range(1, len(sentences)):\n",
    "            sim = cosine_similarity(\n",
    "                [embeddings[i-1]],\n",
    "                [embeddings[i]]\n",
    "            )[0][0]\n",
    "            if sim>=self.threshold:\n",
    "                current_chunk.append(sentences[i])\n",
    "            else:\n",
    "                chunks.append(\". \".join(current_chunk) + \".\")\n",
    "                current_chunk = [sentences[i]]\n",
    "        chunks.append(\". \".join(current_chunk)+ \".\")\n",
    "        return chunks\n",
    "    \n",
    "    def split_documents(self, docs):\n",
    "        result = []\n",
    "        for doc in docs:\n",
    "            for chunk in self.split(doc.page_content):\n",
    "                result.append(Document(page_content=chunk, metadata = doc.metadata))\n",
    "        return result"
   ]
  },
  {
   "cell_type": "code",
   "execution_count": 83,
   "id": "a13179e2",
   "metadata": {},
   "outputs": [
    {
     "data": {
      "text/plain": [
       "Document(metadata={}, page_content='\\nLangChain is a framework for building applications with LLMs.\\nLangchain provides modular abstractions to combine LLMs with tools like OpenAI and Pinecone.\\nYou can create chains, agents, memory, and retrievers.\\nThe Eiffel Tower is located in Paris.\\nFrance is a popular tourist destination.\\n')"
      ]
     },
     "execution_count": 83,
     "metadata": {},
     "output_type": "execute_result"
    }
   ],
   "source": [
    "# Sample text\n",
    "sample_text = \"\"\"\n",
    "LangChain is a framework for building applications with LLMs.\n",
    "Langchain provides modular abstractions to combine LLMs with tools like OpenAI and Pinecone.\n",
    "You can create chains, agents, memory, and retrievers.\n",
    "The Eiffel Tower is located in Paris.\n",
    "France is a popular tourist destination.\n",
    "\"\"\"\n",
    "\n",
    "doc = Document(page_content=sample_text)\n",
    "doc"
   ]
  },
  {
   "cell_type": "code",
   "execution_count": 94,
   "id": "31f9e7f8",
   "metadata": {},
   "outputs": [
    {
     "data": {
      "text/plain": [
       "[Document(metadata={}, page_content='LangChain is a framework for building applications with LLMs. Langchain provides modular abstractions to combine LLMs with tools like OpenAI and Pinecone.'),\n",
       " Document(metadata={}, page_content='You can create chains, agents, memory, and retrievers.'),\n",
       " Document(metadata={}, page_content='The Eiffel Tower is located in Paris.'),\n",
       " Document(metadata={}, page_content='France is a popular tourist destination.')]"
      ]
     },
     "execution_count": 94,
     "metadata": {},
     "output_type": "execute_result"
    }
   ],
   "source": [
    "### Chunking\n",
    "chunker=ThresholdSemanticChunker(threshold=0.7)\n",
    "chunks=chunker.split_documents([doc])\n",
    "chunks"
   ]
  },
  {
   "cell_type": "code",
   "execution_count": 58,
   "id": "e59a7eb9",
   "metadata": {},
   "outputs": [],
   "source": [
    "### VectorStore \n",
    "import os\n",
    "os.environ[\"OPENAI_API_KEY\"]= os.getenv(\"OPENAI_API_KEY\")\n",
    "embeddings = OpenAIEmbeddings()\n",
    "vectorstore = FAISS.from_documents(chunks, embeddings)\n",
    "retriever = vectorstore.as_retriever()"
   ]
  },
  {
   "cell_type": "code",
   "execution_count": 59,
   "id": "e20f8b81",
   "metadata": {},
   "outputs": [
    {
     "data": {
      "text/plain": [
       "PromptTemplate(input_variables=['context', 'question'], input_types={}, partial_variables={}, template='Answer the question based on the following context:\\n\\n{context}\\n\\nQuestion: {question}\\n')"
      ]
     },
     "execution_count": 59,
     "metadata": {},
     "output_type": "execute_result"
    }
   ],
   "source": [
    "## Prompt Template\n",
    "\n",
    "# --- 5. Prompt Template ---\n",
    "template = \"\"\"Answer the question based on the following context:\n",
    "\n",
    "{context}\n",
    "\n",
    "Question: {question}\n",
    "\"\"\"\n",
    "\n",
    "prompt = PromptTemplate.from_template(template)\n",
    "prompt"
   ]
  },
  {
   "cell_type": "code",
   "execution_count": 64,
   "id": "c21c9b86",
   "metadata": {},
   "outputs": [
    {
     "name": "stdout",
     "output_type": "stream",
     "text": [
      "According to the provided context, LangChain is a framework for building applications with LLMs. \n",
      "\n"
     ]
    }
   ],
   "source": [
    "###LLM\n",
    "\n",
    "llm = init_chat_model(model=\"groq:gemma2-9b-it\", temperature=0.4)\n",
    "\n",
    "### LCEL chain with retrieval\n",
    "\n",
    "rag_chain = (\n",
    "    RunnableMap({\n",
    "        \"context\":lambda x : retriever.invoke(x[\"question\"]),\n",
    "        \"question\": lambda x : x[\"question\"]\n",
    "    })\n",
    "    | prompt\n",
    "    | llm\n",
    "    | StrOutputParser()\n",
    ")\n",
    "\n",
    "### 8. Run Query \n",
    "query = {\"question\":\"What is langchain used for?\"}\n",
    "result = rag_chain.invoke(query)\n",
    "\n",
    "print(result)"
   ]
  },
  {
   "cell_type": "markdown",
   "id": "c267a6f4",
   "metadata": {},
   "source": [
    "### Semantic chunker with Langchain"
   ]
  },
  {
   "cell_type": "code",
   "execution_count": 65,
   "id": "a1d814ab",
   "metadata": {},
   "outputs": [],
   "source": [
    "from langchain_openai import OpenAIEmbeddings\n",
    "from langchain_experimental.text_splitter import SemanticChunker\n",
    "from langchain.document_loaders import TextLoader"
   ]
  },
  {
   "cell_type": "code",
   "execution_count": 70,
   "id": "18de76fb",
   "metadata": {},
   "outputs": [
    {
     "name": "stdout",
     "output_type": "stream",
     "text": [
      "\n",
      " chunk 1:\n",
      " LangChain is a framework for building applications with LLMs. Langchain provides modular abstractions to combine LLMs with tools like OpenAI and Pinecone.\n",
      "\n",
      " chunk 2:\n",
      " You can create chains, agents, memory, and retrievers. The Eiffel Tower is located in Paris. France is a popular tourist destination. \n"
     ]
    }
   ],
   "source": [
    "### Load the documents\n",
    "loader = TextLoader(\"langchain_intro.txt\")\n",
    "docs = loader.load()\n",
    "\n",
    "\n",
    "###Initialize embedding model\n",
    "embedding = OpenAIEmbeddings()\n",
    "\n",
    "##create the semantic chunker\n",
    "chunker = SemanticChunker(embeddings)\n",
    "\n",
    "###Split the documnets \n",
    "chunks = chunker.split_documents(docs)\n",
    "\n",
    "### Result \n",
    "for i, chunk in enumerate(chunks):\n",
    "    print(f\"\\n chunk {i+1}:\\n {chunk.page_content}\")"
   ]
  }
 ],
 "metadata": {
  "kernelspec": {
   "display_name": "ultimate_rag_bootcamp",
   "language": "python",
   "name": "python3"
  },
  "language_info": {
   "codemirror_mode": {
    "name": "ipython",
    "version": 3
   },
   "file_extension": ".py",
   "mimetype": "text/x-python",
   "name": "python",
   "nbconvert_exporter": "python",
   "pygments_lexer": "ipython3",
   "version": "3.13.5"
  }
 },
 "nbformat": 4,
 "nbformat_minor": 5
}
